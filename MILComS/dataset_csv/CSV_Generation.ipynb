{
 "cells": [
  {
   "cell_type": "code",
   "execution_count": 1,
   "metadata": {},
   "outputs": [],
   "source": [
    "### Generate csv in CLAM format\n",
    "import pandas as pd\n",
    "from glob import glob\n",
    "\n",
    "csv_path = \"/home3/gzy/Renal/annotated_slide_list.txt\"\n",
    "label_dict = ['ccrcc','prcc','chrcc']\n",
    "\n",
    "\n",
    "df = pd.read_csv(csv_path)\n",
    "df.columns = ['case_id','slide_id','label']\n",
    "df['slide_id'] = df['slide_id'].apply(lambda x: x.split('.svs')[0])\n",
    "df['label'] = df['label'].apply(lambda x: label_dict[x])"
   ]
  },
  {
   "cell_type": "code",
   "execution_count": 2,
   "metadata": {},
   "outputs": [],
   "source": [
    "fea_df = pd.DataFrame(glob(\"/home3/gzy/Renal/feature/*_L.npy\"))\n",
    "fea_df[1] = [1 for i in range(fea_df.shape[0])]\n",
    "fea_df.columns = ['slide_id', 'tag']\n",
    "fea_df['slide_id'] = fea_df['slide_id'].apply(lambda x: x.split('/')[-1].split('_L.npy')[0])"
   ]
  },
  {
   "cell_type": "code",
   "execution_count": 3,
   "metadata": {},
   "outputs": [],
   "source": [
    "df = df.merge(fea_df, how='left', on='slide_id')\n",
    "df = df.fillna(0)\n",
    "df = df[df['tag'] == 1]"
   ]
  },
  {
   "cell_type": "code",
   "execution_count": 4,
   "metadata": {},
   "outputs": [],
   "source": [
    "df[['case_id','slide_id','label']].to_csv('renal_subtyping_npy.csv', index=False)"
   ]
  },
  {
   "cell_type": "code",
   "execution_count": null,
   "metadata": {},
   "outputs": [],
   "source": []
  }
 ],
 "metadata": {
  "kernelspec": {
   "display_name": "Python 3",
   "language": "python",
   "name": "python3"
  },
  "language_info": {
   "codemirror_mode": {
    "name": "ipython",
    "version": 3
   },
   "file_extension": ".py",
   "mimetype": "text/x-python",
   "name": "python",
   "nbconvert_exporter": "python",
   "pygments_lexer": "ipython3",
   "version": "3.7.3"
  }
 },
 "nbformat": 4,
 "nbformat_minor": 4
}
