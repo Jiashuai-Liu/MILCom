{
 "cells": [
  {
   "cell_type": "code",
   "execution_count": 87,
   "metadata": {},
   "outputs": [],
   "source": [
    "import os\n",
    "os.environ[\"CUDA_VISIBLE_DEVICES\"] = \"2\"\n",
    "import numpy as np\n",
    "from glob import glob\n",
    "from datasets.dataset_generic_npy import Generic_MIL_Dataset"
   ]
  },
  {
   "cell_type": "code",
   "execution_count": 92,
   "metadata": {},
   "outputs": [],
   "source": [
    "data = np.load(\"/home3/gzy/Camelyon/feature/test_001_0_256.npy\",allow_pickle=True)[()]"
   ]
  },
  {
   "cell_type": "code",
   "execution_count": 65,
   "metadata": {},
   "outputs": [],
   "source": [
    "from __future__ import print_function, division\n",
    "import os\n",
    "import torch\n",
    "import numpy as np\n",
    "import pandas as pd\n",
    "import math\n",
    "import re\n",
    "import pdb\n",
    "import pickle\n",
    "import cv2\n",
    "\n",
    "from torch.utils.data import Dataset, DataLoader, sampler\n",
    "from torchvision import transforms, utils, models\n",
    "import torch.nn.functional as F\n",
    "\n",
    "from PIL import Image\n",
    "import h5py\n",
    "\n",
    "from random import randrange\n",
    "import openslide\n",
    "\n",
    "\n",
    "# name\n",
    "\n",
    "with h5py.File(\"/home1/gzy/Nature/CLAM/test/patches/test_001.h5\",'r') as hdf5_file:\n",
    "    coord = hdf5_file['coords'][0]\n",
    "name='test_001'\n",
    "anno_path = '/home3/gzy/Camelyon/annotation/summary/' + dict1[name+'.tif'] + '.png'\n",
    "#     coord = hdf5_file['coords'].attrs['name']\n",
    "# img = self.wsi.read_region(coord, self.patch_level, (self.patch_size, self.patch_size)).convert('RGB')\n",
    "        \n",
    "# \n",
    "# \n",
    "\n",
    "# h,w = self.wsi.level_dimensions[1]\n",
    "# mask_h,mask_w = "
   ]
  },
  {
   "cell_type": "code",
   "execution_count": null,
   "metadata": {},
   "outputs": [],
   "source": []
  },
  {
   "cell_type": "code",
   "execution_count": 66,
   "metadata": {},
   "outputs": [],
   "source": [
    "wsi_path = '/home6/svs_files/'+dict1[name+'.tif']+'/'+name+'.tif'"
   ]
  },
  {
   "cell_type": "code",
   "execution_count": 67,
   "metadata": {},
   "outputs": [],
   "source": [
    "wsi = openslide.OpenSlide(wsi_path)"
   ]
  },
  {
   "cell_type": "code",
   "execution_count": 82,
   "metadata": {},
   "outputs": [],
   "source": [
    "h,w = wsi.level_dimensions[1]\n",
    "cancer_mask = cv2.imread(anno_path)\n",
    "cancer_mask = cv2.cvtColor(cancer_mask, cv2.COLOR_BGR2RGB)\n",
    "cancer_mask_binary = np.zeros(cancer_mask.shape[:-1])\n",
    "cancer_mask_binary[(cancer_mask!=[0,0,0]).any(axis=-1)] = 1\n",
    "cancer_mask_binary=cancer_mask_binary.T\n",
    "mask_h,mask_w = cancer_mask_binary.shape\n",
    "mag = int(w/mask_w)"
   ]
  },
  {
   "cell_type": "code",
   "execution_count": 85,
   "metadata": {},
   "outputs": [
    {
     "data": {
      "text/plain": [
       "(43008, 45056)"
      ]
     },
     "execution_count": 85,
     "metadata": {},
     "output_type": "execute_result"
    }
   ],
   "source": [
    "h,w"
   ]
  },
  {
   "cell_type": "code",
   "execution_count": 84,
   "metadata": {},
   "outputs": [
    {
     "data": {
      "text/plain": [
       "(2688, 2800)"
      ]
     },
     "execution_count": 84,
     "metadata": {},
     "output_type": "execute_result"
    }
   ],
   "source": [
    "mask_h,mask_w"
   ]
  },
  {
   "cell_type": "code",
   "execution_count": 76,
   "metadata": {},
   "outputs": [
    {
     "data": {
      "text/plain": [
       "32"
      ]
     },
     "execution_count": 76,
     "metadata": {},
     "output_type": "execute_result"
    }
   ],
   "source": [
    "89600//2800"
   ]
  },
  {
   "cell_type": "code",
   "execution_count": 86,
   "metadata": {},
   "outputs": [
    {
     "data": {
      "text/plain": [
       "array([37240, 69565])"
      ]
     },
     "execution_count": 86,
     "metadata": {},
     "output_type": "execute_result"
    }
   ],
   "source": [
    "coord"
   ]
  },
  {
   "cell_type": "code",
   "execution_count": 60,
   "metadata": {},
   "outputs": [
    {
     "data": {
      "text/plain": [
       "7526400"
      ]
     },
     "execution_count": 60,
     "metadata": {},
     "output_type": "execute_result"
    }
   ],
   "source": [
    "cancer_mask_binary.size"
   ]
  },
  {
   "cell_type": "code",
   "execution_count": 45,
   "metadata": {},
   "outputs": [
    {
     "data": {
      "text/plain": [
       "96693"
      ]
     },
     "execution_count": 45,
     "metadata": {},
     "output_type": "execute_result"
    }
   ],
   "source": [
    "np.count_nonzero(cancer_mask_binary)"
   ]
  },
  {
   "cell_type": "code",
   "execution_count": 44,
   "metadata": {},
   "outputs": [
    {
     "data": {
      "text/plain": [
       "16"
      ]
     },
     "execution_count": 44,
     "metadata": {},
     "output_type": "execute_result"
    }
   ],
   "source": [
    "mag"
   ]
  },
  {
   "cell_type": "code",
   "execution_count": 54,
   "metadata": {},
   "outputs": [
    {
     "data": {
      "text/plain": [
       "89600"
      ]
     },
     "execution_count": 54,
     "metadata": {},
     "output_type": "execute_result"
    }
   ],
   "source": [
    "cancer_mask_binary[0:32,0:7700].size"
   ]
  },
  {
   "cell_type": "code",
   "execution_count": 50,
   "metadata": {},
   "outputs": [
    {
     "data": {
      "text/plain": [
       "<matplotlib.image.AxesImage at 0x7fc4a02e29e8>"
      ]
     },
     "execution_count": 50,
     "metadata": {},
     "output_type": "execute_result"
    },
    {
     "data": {
      "image/png": "[encoded data removed]",
      "text/plain": [
       "<Figure size 432x288 with 1 Axes>"
      ]
     },
     "metadata": {
      "needs_background": "light"
     },
     "output_type": "display_data"
    }
   ],
   "source": [
    "from matplotlib import pyplot as plt\n",
    "plt.imshow(cancer_mask_binary[0:32,0:7000])"
   ]
  },
  {
   "cell_type": "code",
   "execution_count": 26,
   "metadata": {},
   "outputs": [
    {
     "data": {
      "text/plain": [
       "(2800, 2688, 3)"
      ]
     },
     "execution_count": 26,
     "metadata": {},
     "output_type": "execute_result"
    }
   ],
   "source": [
    "cancer_mask.shape"
   ]
  },
  {
   "cell_type": "code",
   "execution_count": 15,
   "metadata": {},
   "outputs": [
    {
     "data": {
      "text/plain": [
       "'test_001'"
      ]
     },
     "execution_count": 15,
     "metadata": {},
     "output_type": "execute_result"
    }
   ],
   "source": [
    "coord"
   ]
  },
  {
   "cell_type": "code",
   "execution_count": 2,
   "metadata": {
    "scrolled": true
   },
   "outputs": [
    {
     "name": "stdout",
     "output_type": "stream",
     "text": [
      "label column: label\n",
      "label dictionary: {'ccrcc': 0, 'prcc': 1, 'chrcc': 2}\n",
      "number of classes: 3\n",
      "slide-level counts:  \n",
      " 0    299\n",
      "1    258\n",
      "2    103\n",
      "Name: label, dtype: int64\n",
      "Patient-LVL; Number of samples registered in class 0: 299\n",
      "Slide-LVL; Number of samples registered in class 0: 299\n",
      "Patient-LVL; Number of samples registered in class 1: 258\n",
      "Slide-LVL; Number of samples registered in class 1: 258\n",
      "Patient-LVL; Number of samples registered in class 2: 103\n",
      "Slide-LVL; Number of samples registered in class 2: 103\n"
     ]
    }
   ],
   "source": [
    "dataset = Generic_MIL_Dataset(csv_path = 'dataset_csv/renal_subtyping_npy.csv',\n",
    "                            data_dir= '/home3/gzy/Renal/feature_e_b0/',\n",
    "                            data_mag = '1_512',\n",
    "                            shuffle = False, \n",
    "                            seed = 10, \n",
    "                            print_info = True,\n",
    "                            label_dict = {'ccrcc':0, 'prcc':1, 'chrcc':2},\n",
    "                            patient_strat= False,\n",
    "                            ignore=[])"
   ]
  },
  {
   "cell_type": "code",
   "execution_count": null,
   "metadata": {},
   "outputs": [],
   "source": []
  },
  {
   "cell_type": "code",
   "execution_count": 3,
   "metadata": {},
   "outputs": [],
   "source": [
    "train_split, val_split, test_split = dataset.return_splits(from_id=False, \n",
    "                csv_path='{}/splits_{}.csv'.format('./splits/renal_subtype_100/', 0))"
   ]
  },
  {
   "cell_type": "code",
   "execution_count": 4,
   "metadata": {},
   "outputs": [
    {
     "name": "stdout",
     "output_type": "stream",
     "text": [
      "torch.Size([87, 1280])\n",
      "torch.Size([792, 1280])\n",
      "torch.Size([1095, 1280])\n",
      "torch.Size([679, 1280])\n",
      "torch.Size([445, 1280])\n",
      "torch.Size([210, 1280])\n",
      "torch.Size([977, 1280])\n",
      "torch.Size([622, 1280])\n",
      "torch.Size([347, 1280])\n",
      "torch.Size([180, 1280])\n",
      "torch.Size([772, 1280])\n",
      "torch.Size([696, 1280])\n",
      "torch.Size([811, 1280])\n",
      "torch.Size([1096, 1280])\n",
      "torch.Size([524, 1280])\n",
      "torch.Size([884, 1280])\n",
      "torch.Size([119, 1280])\n",
      "torch.Size([728, 1280])\n",
      "torch.Size([697, 1280])\n",
      "torch.Size([500, 1280])\n",
      "torch.Size([1646, 1280])\n",
      "torch.Size([353, 1280])\n",
      "torch.Size([58, 1280])\n",
      "torch.Size([1152, 1280])\n",
      "torch.Size([757, 1280])\n",
      "torch.Size([264, 1280])\n",
      "torch.Size([746, 1280])\n",
      "torch.Size([782, 1280])\n",
      "torch.Size([1022, 1280])\n",
      "torch.Size([639, 1280])\n",
      "torch.Size([102, 1280])\n",
      "torch.Size([382, 1280])\n",
      "torch.Size([1104, 1280])\n",
      "torch.Size([1967, 1280])\n",
      "torch.Size([969, 1280])\n",
      "torch.Size([184, 1280])\n",
      "torch.Size([133, 1280])\n",
      "torch.Size([707, 1280])\n",
      "torch.Size([1128, 1280])\n",
      "torch.Size([591, 1280])\n",
      "torch.Size([1164, 1280])\n",
      "torch.Size([376, 1280])\n",
      "torch.Size([616, 1280])\n",
      "torch.Size([1317, 1280])\n",
      "torch.Size([186, 1280])\n",
      "torch.Size([1187, 1280])\n",
      "torch.Size([905, 1280])\n",
      "torch.Size([203, 1280])\n",
      "torch.Size([1216, 1280])\n",
      "torch.Size([616, 1280])\n",
      "torch.Size([668, 1280])\n",
      "torch.Size([1290, 1280])\n",
      "torch.Size([291, 1280])\n",
      "torch.Size([505, 1280])\n",
      "torch.Size([762, 1280])\n",
      "torch.Size([107, 1280])\n",
      "torch.Size([672, 1280])\n",
      "torch.Size([191, 1280])\n",
      "torch.Size([891, 1280])\n",
      "torch.Size([992, 1280])\n",
      "torch.Size([614, 1280])\n",
      "torch.Size([831, 1280])\n",
      "torch.Size([1139, 1280])\n",
      "torch.Size([830, 1280])\n",
      "torch.Size([229, 1280])\n",
      "torch.Size([694, 1280])\n",
      "torch.Size([1070, 1280])\n",
      "torch.Size([1301, 1280])\n",
      "torch.Size([144, 1280])\n",
      "torch.Size([903, 1280])\n",
      "torch.Size([58, 1280])\n",
      "torch.Size([1334, 1280])\n",
      "torch.Size([1272, 1280])\n",
      "torch.Size([439, 1280])\n",
      "torch.Size([1039, 1280])\n",
      "torch.Size([1474, 1280])\n",
      "torch.Size([797, 1280])\n",
      "torch.Size([1215, 1280])\n",
      "torch.Size([1080, 1280])\n",
      "torch.Size([71, 1280])\n",
      "torch.Size([176, 1280])\n",
      "torch.Size([1171, 1280])\n",
      "torch.Size([248, 1280])\n",
      "torch.Size([1631, 1280])\n",
      "torch.Size([224, 1280])\n",
      "torch.Size([1154, 1280])\n",
      "torch.Size([1058, 1280])\n",
      "torch.Size([971, 1280])\n",
      "torch.Size([323, 1280])\n",
      "torch.Size([1220, 1280])\n",
      "torch.Size([1631, 1280])\n",
      "torch.Size([192, 1280])\n",
      "torch.Size([786, 1280])\n",
      "torch.Size([768, 1280])\n",
      "torch.Size([958, 1280])\n",
      "torch.Size([183, 1280])\n",
      "torch.Size([1258, 1280])\n",
      "torch.Size([755, 1280])\n",
      "torch.Size([413, 1280])\n",
      "torch.Size([663, 1280])\n",
      "torch.Size([725, 1280])\n"
     ]
    },
    {
     "ename": "KeyboardInterrupt",
     "evalue": "",
     "output_type": "error",
     "traceback": [
      "\u001b[0;31m---------------------------------------------------------------------------\u001b[0m",
      "\u001b[0;31mKeyboardInterrupt\u001b[0m                         Traceback (most recent call last)",
      "\u001b[0;32m<ipython-input-4-75c815bfb60f>\u001b[0m in \u001b[0;36m<module>\u001b[0;34m\u001b[0m\n\u001b[1;32m      1\u001b[0m \u001b[0;32mfor\u001b[0m \u001b[0mi\u001b[0m \u001b[0;32min\u001b[0m \u001b[0mrange\u001b[0m\u001b[0;34m(\u001b[0m\u001b[0mlen\u001b[0m\u001b[0;34m(\u001b[0m\u001b[0mtrain_split\u001b[0m\u001b[0;34m)\u001b[0m\u001b[0;34m)\u001b[0m\u001b[0;34m:\u001b[0m\u001b[0;34m\u001b[0m\u001b[0;34m\u001b[0m\u001b[0m\n\u001b[0;32m----> 2\u001b[0;31m     \u001b[0mprint\u001b[0m\u001b[0;34m(\u001b[0m\u001b[0mtrain_split\u001b[0m\u001b[0;34m[\u001b[0m\u001b[0mi\u001b[0m\u001b[0;34m]\u001b[0m\u001b[0;34m[\u001b[0m\u001b[0;36m0\u001b[0m\u001b[0;34m]\u001b[0m\u001b[0;34m.\u001b[0m\u001b[0mshape\u001b[0m\u001b[0;34m)\u001b[0m\u001b[0;34m\u001b[0m\u001b[0;34m\u001b[0m\u001b[0m\n\u001b[0m",
      "\u001b[0;32m~/Nature/CLAM/datasets/dataset_generic_npy.py\u001b[0m in \u001b[0;36m__getitem__\u001b[0;34m(self, idx)\u001b[0m\n\u001b[1;32m    333\u001b[0m         \u001b[0mfull_path\u001b[0m \u001b[0;34m=\u001b[0m \u001b[0mos\u001b[0m\u001b[0;34m.\u001b[0m\u001b[0mpath\u001b[0m\u001b[0;34m.\u001b[0m\u001b[0mjoin\u001b[0m\u001b[0;34m(\u001b[0m\u001b[0mdata_dir\u001b[0m\u001b[0;34m,\u001b[0m\u001b[0;34m'{}_{}.npy'\u001b[0m\u001b[0;34m.\u001b[0m\u001b[0mformat\u001b[0m\u001b[0;34m(\u001b[0m\u001b[0mslide_id\u001b[0m\u001b[0;34m,\u001b[0m \u001b[0mself\u001b[0m\u001b[0;34m.\u001b[0m\u001b[0mdata_mag\u001b[0m\u001b[0;34m)\u001b[0m\u001b[0;34m)\u001b[0m\u001b[0;34m\u001b[0m\u001b[0;34m\u001b[0m\u001b[0m\n\u001b[1;32m    334\u001b[0m \u001b[0;34m\u001b[0m\u001b[0m\n\u001b[0;32m--> 335\u001b[0;31m         \u001b[0mrecord\u001b[0m \u001b[0;34m=\u001b[0m \u001b[0mnp\u001b[0m\u001b[0;34m.\u001b[0m\u001b[0mload\u001b[0m\u001b[0;34m(\u001b[0m\u001b[0mfull_path\u001b[0m\u001b[0;34m,\u001b[0m \u001b[0mallow_pickle\u001b[0m\u001b[0;34m=\u001b[0m\u001b[0;32mTrue\u001b[0m\u001b[0;34m)\u001b[0m\u001b[0;34m\u001b[0m\u001b[0;34m\u001b[0m\u001b[0m\n\u001b[0m\u001b[1;32m    336\u001b[0m \u001b[0;34m\u001b[0m\u001b[0m\n\u001b[1;32m    337\u001b[0m         \u001b[0mfeatures\u001b[0m \u001b[0;34m=\u001b[0m \u001b[0mrecord\u001b[0m\u001b[0;34m[\u001b[0m\u001b[0;34m(\u001b[0m\u001b[0;34m)\u001b[0m\u001b[0;34m]\u001b[0m\u001b[0;34m[\u001b[0m\u001b[0;34m'feature'\u001b[0m\u001b[0;34m]\u001b[0m\u001b[0;34m\u001b[0m\u001b[0;34m\u001b[0m\u001b[0m\n",
      "\u001b[0;32m~/.local/lib/python3.7/site-packages/numpy/lib/npyio.py\u001b[0m in \u001b[0;36mload\u001b[0;34m(file, mmap_mode, allow_pickle, fix_imports, encoding)\u001b[0m\n\u001b[1;32m    439\u001b[0m             \u001b[0;32melse\u001b[0m\u001b[0;34m:\u001b[0m\u001b[0;34m\u001b[0m\u001b[0;34m\u001b[0m\u001b[0m\n\u001b[1;32m    440\u001b[0m                 return format.read_array(fid, allow_pickle=allow_pickle,\n\u001b[0;32m--> 441\u001b[0;31m                                          pickle_kwargs=pickle_kwargs)\n\u001b[0m\u001b[1;32m    442\u001b[0m         \u001b[0;32melse\u001b[0m\u001b[0;34m:\u001b[0m\u001b[0;34m\u001b[0m\u001b[0;34m\u001b[0m\u001b[0m\n\u001b[1;32m    443\u001b[0m             \u001b[0;31m# Try a pickle\u001b[0m\u001b[0;34m\u001b[0m\u001b[0;34m\u001b[0m\u001b[0;34m\u001b[0m\u001b[0m\n",
      "\u001b[0;32m~/.local/lib/python3.7/site-packages/numpy/lib/format.py\u001b[0m in \u001b[0;36mread_array\u001b[0;34m(fp, allow_pickle, pickle_kwargs)\u001b[0m\n\u001b[1;32m    746\u001b[0m             \u001b[0mpickle_kwargs\u001b[0m \u001b[0;34m=\u001b[0m \u001b[0;34m{\u001b[0m\u001b[0;34m}\u001b[0m\u001b[0;34m\u001b[0m\u001b[0;34m\u001b[0m\u001b[0m\n\u001b[1;32m    747\u001b[0m         \u001b[0;32mtry\u001b[0m\u001b[0;34m:\u001b[0m\u001b[0;34m\u001b[0m\u001b[0;34m\u001b[0m\u001b[0m\n\u001b[0;32m--> 748\u001b[0;31m             \u001b[0marray\u001b[0m \u001b[0;34m=\u001b[0m \u001b[0mpickle\u001b[0m\u001b[0;34m.\u001b[0m\u001b[0mload\u001b[0m\u001b[0;34m(\u001b[0m\u001b[0mfp\u001b[0m\u001b[0;34m,\u001b[0m \u001b[0;34m**\u001b[0m\u001b[0mpickle_kwargs\u001b[0m\u001b[0;34m)\u001b[0m\u001b[0;34m\u001b[0m\u001b[0;34m\u001b[0m\u001b[0m\n\u001b[0m\u001b[1;32m    749\u001b[0m         \u001b[0;32mexcept\u001b[0m \u001b[0mUnicodeError\u001b[0m \u001b[0;32mas\u001b[0m \u001b[0merr\u001b[0m\u001b[0;34m:\u001b[0m\u001b[0;34m\u001b[0m\u001b[0;34m\u001b[0m\u001b[0m\n\u001b[1;32m    750\u001b[0m             \u001b[0;31m# Friendlier error message\u001b[0m\u001b[0;34m\u001b[0m\u001b[0;34m\u001b[0m\u001b[0;34m\u001b[0m\u001b[0m\n",
      "\u001b[0;32m~/.local/lib/python3.7/site-packages/torch/storage.py\u001b[0m in \u001b[0;36m_load_from_bytes\u001b[0;34m(b)\u001b[0m\n\u001b[1;32m    138\u001b[0m \u001b[0;34m\u001b[0m\u001b[0m\n\u001b[1;32m    139\u001b[0m \u001b[0;34m\u001b[0m\u001b[0m\n\u001b[0;32m--> 140\u001b[0;31m \u001b[0;32mdef\u001b[0m \u001b[0m_load_from_bytes\u001b[0m\u001b[0;34m(\u001b[0m\u001b[0mb\u001b[0m\u001b[0;34m)\u001b[0m\u001b[0;34m:\u001b[0m\u001b[0;34m\u001b[0m\u001b[0;34m\u001b[0m\u001b[0m\n\u001b[0m\u001b[1;32m    141\u001b[0m     \u001b[0;32mreturn\u001b[0m \u001b[0mtorch\u001b[0m\u001b[0;34m.\u001b[0m\u001b[0mload\u001b[0m\u001b[0;34m(\u001b[0m\u001b[0mio\u001b[0m\u001b[0;34m.\u001b[0m\u001b[0mBytesIO\u001b[0m\u001b[0;34m(\u001b[0m\u001b[0mb\u001b[0m\u001b[0;34m)\u001b[0m\u001b[0;34m)\u001b[0m\u001b[0;34m\u001b[0m\u001b[0;34m\u001b[0m\u001b[0m\n\u001b[1;32m    142\u001b[0m \u001b[0;34m\u001b[0m\u001b[0m\n",
      "\u001b[0;31mKeyboardInterrupt\u001b[0m: "
     ]
    }
   ],
   "source": [
    "for i in range(len(train_split)):\n",
    "    print(train_split[i][0].shape)"
   ]
  },
  {
   "cell_type": "code",
   "execution_count": 4,
   "metadata": {},
   "outputs": [],
   "source": [
    "## CUDA_VISIBLE_DEVICES=0 python main.py --drop_out --early_stopping --lr 2e-4 --k 5 --label_frac 1.0 --exp_code task_2_tumor_subtyping_CLAM_50 --weighted_sample --bag_loss ce --inst_loss svm --task renal_subtype --model_type clam_mb --log_data --subtyping --data_root_dir /home3/gzy/"
   ]
  },
  {
   "cell_type": "code",
   "execution_count": 4,
   "metadata": {},
   "outputs": [],
   "source": [
    "import numpy as np\n",
    "import torch\n",
    "from utils.utils import *\n",
    "from datasets.dataset_generic import save_splits\n",
    "from models.model_mil import MIL_fc, MIL_fc_mc\n",
    "from models.model_clam import CLAM_MB, CLAM_SB, WSOD\n",
    "from sklearn.preprocessing import label_binarize\n",
    "from sklearn.metrics import roc_auc_score, roc_curve\n",
    "from sklearn.metrics import auc as calc_auc"
   ]
  },
  {
   "cell_type": "code",
   "execution_count": 5,
   "metadata": {},
   "outputs": [],
   "source": [
    "model_dict = {\"dropout\": True, 'n_classes': 3}\n",
    "model_dict.update({\"size_arg\": 'small'})\n",
    "model_dict.update({'subtyping': True})\n",
    "loss_fn = nn.CrossEntropyLoss()\n",
    "\n",
    "train_loader = get_split_loader(train_split, training=True)\n",
    "\n",
    "model = WSOD(**model_dict)\n",
    "model = model.cuda()"
   ]
  },
  {
   "cell_type": "code",
   "execution_count": 6,
   "metadata": {},
   "outputs": [],
   "source": [
    "for batch_idx, (data, label, cors, inst_label) in enumerate(train_loader):\n",
    "        data, label = data.to(device), label.to(device)\n",
    "        mask = cors[0][1]\n",
    "        final_score, Y_prob, Y_hat, det_score, results_dict = model(data, mask)\n",
    "        break"
   ]
  },
  {
   "cell_type": "code",
   "execution_count": 11,
   "metadata": {},
   "outputs": [],
   "source": [
    "f_h, f_w = np.where(mask==1)"
   ]
  },
  {
   "cell_type": "code",
   "execution_count": 12,
   "metadata": {},
   "outputs": [],
   "source": [
    "cls_final_score = final_score[:,0]\n",
    "cls_final_score = (cls_final_score-cls_final_score.min())/(cls_final_score.max()-cls_final_score.min())\n",
    "tp_score, tp_index = torch.topk(cls_final_score, int(len(cls_final_score)*0.1))"
   ]
  },
  {
   "cell_type": "code",
   "execution_count": 60,
   "metadata": {},
   "outputs": [],
   "source": [
    "cors = np.array([f_h,f_w]).T\n",
    "tp_cors = cors[tp_index.cpu()]"
   ]
  },
  {
   "cell_type": "code",
   "execution_count": 82,
   "metadata": {},
   "outputs": [],
   "source": [
    "nb_mask = np.zeros_like(mask)\n",
    "for index in tp_index:\n",
    "    x_index, y_index = f_h[index], f_w[index]\n",
    "    nb_mask[max(0,x_index-1):x_index+2, max(0,y_index-1):y_index+2] = 1\n",
    "nb_mask = nb_mask * mask"
   ]
  },
  {
   "cell_type": "code",
   "execution_count": 12,
   "metadata": {},
   "outputs": [
    {
     "data": {
      "text/plain": [
       "<matplotlib.image.AxesImage at 0x7f47682c3a90>"
      ]
     },
     "execution_count": 12,
     "metadata": {},
     "output_type": "execute_result"
    },
    {
     "data": {
      "image/png": "[encoded data removed]",
      "text/plain": [
       "<Figure size 432x288 with 1 Axes>"
      ]
     },
     "metadata": {
      "needs_background": "light"
     },
     "output_type": "display_data"
    }
   ],
   "source": [
    "from matplotlib import pyplot as plt\n",
    "plt.imshow(cors[1])"
   ]
  },
  {
   "cell_type": "code",
   "execution_count": 26,
   "metadata": {},
   "outputs": [
    {
     "data": {
      "text/plain": [
       "tensor(0.6322, device='cuda:0', grad_fn=<BinaryCrossEntropyBackward>)"
      ]
     },
     "execution_count": 26,
     "metadata": {},
     "output_type": "execute_result"
    }
   ],
   "source": [
    "from torch.nn import functional as F\n",
    "\n",
    "wsi_label = torch.zeros(3)\n",
    "wsi_label[label.long()] = 1\n",
    "wsi_label = wsi_label.cuda()\n",
    "\n",
    "F.binary_cross_entropy(Y_prob, wsi_label)"
   ]
  },
  {
   "cell_type": "code",
   "execution_count": 30,
   "metadata": {},
   "outputs": [],
   "source": [
    "wsi_label = torch.zeros(3)\n",
    "wsi_label[[0,1]] = 1"
   ]
  },
  {
   "cell_type": "code",
   "execution_count": 31,
   "metadata": {},
   "outputs": [
    {
     "data": {
      "text/plain": [
       "tensor([1., 1., 0.])"
      ]
     },
     "execution_count": 31,
     "metadata": {},
     "output_type": "execute_result"
    }
   ],
   "source": [
    "wsi_label"
   ]
  },
  {
   "cell_type": "code",
   "execution_count": null,
   "metadata": {},
   "outputs": [],
   "source": []
  }
 ],
 "metadata": {
  "kernelspec": {
   "display_name": "Python 3",
   "language": "python",
   "name": "python3"
  },
  "language_info": {
   "codemirror_mode": {
    "name": "ipython",
    "version": 3
   },
   "file_extension": ".py",
   "mimetype": "text/x-python",
   "name": "python",
   "nbconvert_exporter": "python",
   "pygments_lexer": "ipython3",
   "version": "3.7.3"
  }
 },
 "nbformat": 4,
 "nbformat_minor": 4
}
